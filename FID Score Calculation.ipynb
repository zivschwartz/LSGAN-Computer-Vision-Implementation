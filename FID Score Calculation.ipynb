{
  "nbformat": 4,
  "nbformat_minor": 0,
  "metadata": {
    "colab": {
      "name": "LSGAN-FID.ipynb",
      "provenance": [],
      "collapsed_sections": []
    },
    "kernelspec": {
      "name": "python3",
      "display_name": "Python 3"
    },
    "accelerator": "GPU"
  },
  "cells": [
    {
      "cell_type": "code",
      "metadata": {
        "id": "NgEyovDUCxqn",
        "colab_type": "code",
        "colab": {}
      },
      "source": [
        "import os\n",
        "import pathlib\n",
        "\n",
        "from scipy import linalg\n",
        "from skimage.io import imread\n",
        "from torch.nn.functional import adaptive_avg_pool2d\n",
        "\n",
        "try:\n",
        "    from tqdm import tqdm\n",
        "except ImportError:\n",
        "    # If not tqdm is not available, provide a mock version of it\n",
        "    def tqdm(x): return x"
      ],
      "execution_count": 0,
      "outputs": []
    },
    {
      "cell_type": "code",
      "metadata": {
        "id": "s4eRDDemDmhW",
        "colab_type": "code",
        "colab": {}
      },
      "source": [
        "import torchvision.transforms as transforms\n",
        "from torchvision.utils import save_image\n",
        "\n",
        "from torch.utils.data import DataLoader\n",
        "from torchvision import datasets\n",
        "\n",
        "from torch.autograd import Variable\n",
        "\n",
        "import torch.nn as nn\n",
        "import torch.nn.functional as F\n",
        "import torch\n",
        "\n",
        "import time\n",
        "\n",
        "import matplotlib.pyplot as plt"
      ],
      "execution_count": 0,
      "outputs": []
    },
    {
      "cell_type": "code",
      "metadata": {
        "id": "WvVtnbUnYjAQ",
        "colab_type": "code",
        "colab": {}
      },
      "source": [
        "import numpy as np\n",
        "import math"
      ],
      "execution_count": 0,
      "outputs": []
    },
    {
      "cell_type": "code",
      "metadata": {
        "id": "phdbvY0AD2SI",
        "colab_type": "code",
        "colab": {}
      },
      "source": [
        "n_epochs = 200\n",
        "# batch_size = 64\n",
        "# changed to 50 since 10,000 test images and want to be divisible\n",
        "batch_size = 50\n",
        "lr = 0.0002\n",
        "b1 = 0.5\n",
        "b2 = 0.999\n",
        "latent_dim = 1024\n",
        "img_size = 32\n",
        "channels = 1\n",
        "sample_interval = 400"
      ],
      "execution_count": 0,
      "outputs": []
    },
    {
      "cell_type": "code",
      "metadata": {
        "id": "dBg7DhbCPzG9",
        "colab_type": "code",
        "colab": {}
      },
      "source": [
        "dims = 2048"
      ],
      "execution_count": 0,
      "outputs": []
    },
    {
      "cell_type": "code",
      "metadata": {
        "id": "JGSy_ss6DsjW",
        "colab_type": "code",
        "outputId": "d400eab9-f8f7-4bf1-ce67-7eeebb780911",
        "colab": {
          "base_uri": "https://localhost:8080/",
          "height": 124
        }
      },
      "source": [
        "from google.colab import drive\n",
        "drive.mount('/content/drive')\n",
        "\n",
        "BASE_DIR = ('drive/My Drive/LSGAN-Project')"
      ],
      "execution_count": 0,
      "outputs": [
        {
          "output_type": "stream",
          "text": [
            "Go to this URL in a browser: https://accounts.google.com/o/oauth2/auth?client_id=947318989803-6bn6qk8qdgf4n4g3pfee6491hc0brc4i.apps.googleusercontent.com&redirect_uri=urn%3aietf%3awg%3aoauth%3a2.0%3aoob&response_type=code&scope=email%20https%3a%2f%2fwww.googleapis.com%2fauth%2fdocs.test%20https%3a%2f%2fwww.googleapis.com%2fauth%2fdrive%20https%3a%2f%2fwww.googleapis.com%2fauth%2fdrive.photos.readonly%20https%3a%2f%2fwww.googleapis.com%2fauth%2fpeopleapi.readonly\n",
            "\n",
            "Enter your authorization code:\n",
            "··········\n",
            "Mounted at /content/drive\n"
          ],
          "name": "stdout"
        }
      ]
    },
    {
      "cell_type": "code",
      "metadata": {
        "id": "NzMSl23EC58E",
        "colab_type": "code",
        "colab": {}
      },
      "source": [
        "fashion_dataloader_test = torch.utils.data.DataLoader(\n",
        "    datasets.FashionMNIST(\n",
        "        BASE_DIR + '/data/fashion-mnist/test',\n",
        "        train=False,\n",
        "        download=True,\n",
        "        transform=transforms.Compose(\n",
        "            [transforms.Resize(img_size), transforms.ToTensor(), transforms.Normalize([0.5], [0.5])]\n",
        "        ),\n",
        "    ),\n",
        "    batch_size=batch_size,\n",
        "    shuffle=True,\n",
        ")"
      ],
      "execution_count": 0,
      "outputs": []
    },
    {
      "cell_type": "code",
      "metadata": {
        "id": "LPTaCnu3Dhxu",
        "colab_type": "code",
        "colab": {}
      },
      "source": [
        "def get_activations(all_images, model, batch_size=50, dims=2048,\n",
        "                    cuda=False, verbose=False):\n",
        "    \"\"\"Calculates the activations of the pool_3 layer for all images.\n",
        "    Params:\n",
        "    -- model       : Instance of inception model\n",
        "    -- batch_size  : Batch size of images for the model to process at once.\n",
        "                     Make sure that the number of samples is a multiple of\n",
        "                     the batch size, otherwise some samples are ignored. This\n",
        "                     behavior is retained to match the original FID score\n",
        "                     implementation.\n",
        "    -- dims        : Dimensionality of features returned by Inception\n",
        "    -- cuda        : If set to True, use GPU\n",
        "    -- verbose     : If set to True and parameter out_step is given, the number\n",
        "                     of calculated batches is reported.\n",
        "    Returns:\n",
        "    -- A numpy array of dimension (num images, dims) that contains the\n",
        "       activations of the given tensor when feeding inception with the\n",
        "       query tensor.\n",
        "    \"\"\"\n",
        "    model.eval()\n",
        "\n",
        "    if len(all_images) % batch_size != 0:\n",
        "        print(('Warning: number of images is not a multiple of the '\n",
        "               'batch size. Some samples are going to be ignored.'))\n",
        "    if batch_size > len(all_images):\n",
        "        print(('Warning: batch size is bigger than the data size. '\n",
        "               'Setting batch size to data size'))\n",
        "        batch_size = len(all_images)\n",
        "\n",
        "    n_batches = len(all_images) // batch_size\n",
        "    n_used_imgs = n_batches * batch_size\n",
        "\n",
        "    pred_arr = np.empty((n_used_imgs, dims))\n",
        "\n",
        "    for i in tqdm(range(n_batches)):\n",
        "        if verbose:\n",
        "            print('\\rPropagating batch %d/%d' % (i + 1, n_batches),\n",
        "                  end='', flush=True)\n",
        "        start = i * batch_size\n",
        "        end = start + batch_size\n",
        "\n",
        "        images = all_images[start:end]\n",
        "\n",
        "        batch = torch.from_numpy(images).type(torch.FloatTensor)\n",
        "        if cuda:\n",
        "            batch = batch.cuda()\n",
        "\n",
        "        pred = model(batch)[0]\n",
        "\n",
        "        # If model output is not scalar, apply global spatial average pooling.\n",
        "        # This happens if you choose a dimensionality not equal 2048.\n",
        "        if pred.shape[2] != 1 or pred.shape[3] != 1:\n",
        "            pred = adaptive_avg_pool2d(pred, output_size=(1, 1))\n",
        "\n",
        "        pred_arr[start:end] = pred.cpu().data.numpy().reshape(batch_size, -1)\n",
        "\n",
        "    if verbose:\n",
        "        print(' done')\n",
        "\n",
        "    return pred_arr\n",
        "\n",
        "\n",
        "def calculate_frechet_distance(mu1, sigma1, mu2, sigma2, eps=1e-6):\n",
        "    \"\"\"Numpy implementation of the Frechet Distance.\n",
        "    The Frechet distance between two multivariate Gaussians X_1 ~ N(mu_1, C_1)\n",
        "    and X_2 ~ N(mu_2, C_2) is\n",
        "            d^2 = ||mu_1 - mu_2||^2 + Tr(C_1 + C_2 - 2*sqrt(C_1*C_2)).\n",
        "    Stable version by Dougal J. Sutherland.\n",
        "    Params:\n",
        "    -- mu1   : Numpy array containing the activations of a layer of the\n",
        "               inception net (like returned by the function 'get_predictions')\n",
        "               for generated samples.\n",
        "    -- mu2   : The sample mean over activations, precalculated on an\n",
        "               representative data set.\n",
        "    -- sigma1: The covariance matrix over activations for generated samples.\n",
        "    -- sigma2: The covariance matrix over activations, precalculated on an\n",
        "               representative data set.\n",
        "    Returns:\n",
        "    --   : The Frechet Distance.\n",
        "    \"\"\"\n",
        "\n",
        "    mu1 = np.atleast_1d(mu1)\n",
        "    mu2 = np.atleast_1d(mu2)\n",
        "\n",
        "    sigma1 = np.atleast_2d(sigma1)\n",
        "    sigma2 = np.atleast_2d(sigma2)\n",
        "\n",
        "    assert mu1.shape == mu2.shape, \\\n",
        "        'Training and test mean vectors have different lengths'\n",
        "    assert sigma1.shape == sigma2.shape, \\\n",
        "        'Training and test covariances have different dimensions'\n",
        "\n",
        "    diff = mu1 - mu2\n",
        "\n",
        "    # Product might be almost singular\n",
        "    covmean, _ = linalg.sqrtm(sigma1.dot(sigma2), disp=False)\n",
        "    if not np.isfinite(covmean).all():\n",
        "        msg = ('fid calculation produces singular product; '\n",
        "               'adding %s to diagonal of cov estimates') % eps\n",
        "        print(msg)\n",
        "        offset = np.eye(sigma1.shape[0]) * eps\n",
        "        covmean = linalg.sqrtm((sigma1 + offset).dot(sigma2 + offset))\n",
        "\n",
        "    # Numerical error might give slight imaginary component\n",
        "    if np.iscomplexobj(covmean):\n",
        "        if not np.allclose(np.diagonal(covmean).imag, 0, atol=1e-3):\n",
        "            m = np.max(np.abs(covmean.imag))\n",
        "            raise ValueError('Imaginary component {}'.format(m))\n",
        "        covmean = covmean.real\n",
        "\n",
        "    tr_covmean = np.trace(covmean)\n",
        "\n",
        "    return (diff.dot(diff) + np.trace(sigma1) +\n",
        "            np.trace(sigma2) - 2 * tr_covmean)\n",
        "\n",
        "\n",
        "def calculate_activation_statistics(images, model, batch_size=50,\n",
        "                                    dims=2048, cuda=False, verbose=False):\n",
        "    \"\"\"Calculation of the statistics used by the FID.\n",
        "    Params:\n",
        "    -- model       : Instance of inception model\n",
        "    -- batch_size  : The images numpy array is split into batches with\n",
        "                     batch size batch_size. A reasonable batch size\n",
        "                     depends on the hardware.\n",
        "    -- dims        : Dimensionality of features returned by Inception\n",
        "    -- cuda        : If set to True, use GPU\n",
        "    -- verbose     : If set to True and parameter out_step is given, the\n",
        "                     number of calculated batches is reported.\n",
        "    Returns:\n",
        "    -- mu    : The mean over samples of the activations of the pool_3 layer of\n",
        "               the inception model.\n",
        "    -- sigma : The covariance matrix of the activations of the pool_3 layer of\n",
        "               the inception model.\n",
        "    \"\"\"\n",
        "    act = get_activations(images, model, batch_size, dims, cuda, verbose)\n",
        "    mu = np.mean(act, axis=0)\n",
        "    sigma = np.cov(act, rowvar=False)\n",
        "    return mu, sigma\n",
        "\n",
        "\n",
        "def _compute_statistics_of_path(images, model, batch_size, dims, cuda):\n",
        "    m, s = calculate_activation_statistics(images, model, batch_size,\n",
        "                                               dims, cuda)\n",
        "\n",
        "    return m, s\n",
        "\n",
        "\n",
        "def calculate_fid_given_paths(images, batch_size, cuda, dims):\n",
        "    \"\"\"Calculates the FID of two paths\"\"\"\n",
        "\n",
        "    block_idx = InceptionV3.BLOCK_INDEX_BY_DIM[dims]\n",
        "\n",
        "    \n",
        "    model = InceptionV3(output_blocks = [block_idx], normalize_input = False)\n",
        "    if cuda:\n",
        "        model.cuda()\n",
        "\n",
        "    m1, s1 = _compute_statistics_of_path(images[0], model, batch_size,\n",
        "                                         dims, cuda)\n",
        "    m2, s2 = _compute_statistics_of_path(images[1], model, batch_size,\n",
        "                                         dims, cuda)\n",
        "    fid_value = calculate_frechet_distance(m1, s1, m2, s2)\n",
        "\n",
        "    return fid_value"
      ],
      "execution_count": 0,
      "outputs": []
    },
    {
      "cell_type": "code",
      "metadata": {
        "id": "WtyDqWV_GMmj",
        "colab_type": "code",
        "colab": {}
      },
      "source": [
        "count_test = 0\n",
        "for i, (imgs, _) in enumerate(fashion_dataloader_test):\n",
        "    count_test+=imgs.shape[0]"
      ],
      "execution_count": 0,
      "outputs": []
    },
    {
      "cell_type": "code",
      "metadata": {
        "id": "IEFd8C5jGWCW",
        "colab_type": "code",
        "outputId": "9fa312aa-8292-49cd-9315-d6d8286e27e8",
        "colab": {
          "base_uri": "https://localhost:8080/",
          "height": 34
        }
      },
      "source": [
        "count_test"
      ],
      "execution_count": 0,
      "outputs": [
        {
          "output_type": "execute_result",
          "data": {
            "text/plain": [
              "10000"
            ]
          },
          "metadata": {
            "tags": []
          },
          "execution_count": 10
        }
      ]
    },
    {
      "cell_type": "code",
      "metadata": {
        "id": "LwDTxQTIGYe8",
        "colab_type": "code",
        "colab": {}
      },
      "source": [
        "class Our_Generator(nn.Module):\n",
        "    def __init__(self, batch_norm = True, momentum = 0.8):\n",
        "        super(Our_Generator, self).__init__()\n",
        "        \n",
        "        self.init_size = img_size // 4\n",
        "\n",
        "        def linear_block(in_feat, out_feat, normalize=batch_norm):\n",
        "            layers = [nn.Linear(in_feat, out_feat)]\n",
        "            if normalize:\n",
        "                layers.append(nn.BatchNorm1d(out_feat, momentum = momentum))\n",
        "            layers.append(nn.LeakyReLU(0.2, inplace=True))\n",
        "            return layers\n",
        "\n",
        "        # as specified in paper\n",
        "        def deconv_block(input_channels, output_channels, kernel_size, stride, padding, output_padding, normalize=batch_norm):\n",
        "            layers = [nn.ConvTranspose2d(input_channels, output_channels, kernel_size = kernel_size, stride = stride, padding = padding, output_padding = output_padding)]\n",
        "            if normalize:\n",
        "                layers.append(nn.BatchNorm2d(output_channels, momentum = momentum))\n",
        "            layers.append(nn.LeakyReLU(0.2, inplace=True))\n",
        "            return layers\n",
        "\n",
        "\n",
        "        self.first_layer = nn.Sequential(*linear_block(latent_dim, 128 *  self.init_size**2))\n",
        "\n",
        "        # formula to keep 2D images the same size FOR CONVENIENCE\n",
        "        # https://discuss.pytorch.org/t/how-to-keep-the-shape-of-input-and-output-same-when-dilation-conv/14338/2\n",
        "\n",
        "        # I used this formula to keep the Image Sizes the same for deconvolutional layers\n",
        "        # https://www.wolframalpha.com/input/?i=28+%3D+%2828+-+1%29+*+1+-2Z+%2B++P+%2B+%283-1%29+%2B+1\n",
        "\n",
        "        # FORMULA FOR SIZE OF CONVOLUTIONAL AND DECONV LAYERS ARE DIFFERENT\n",
        "\n",
        "        self.deconvolutional_part = nn.Sequential(\n",
        "                *deconv_block(128, 128, kernel_size = 3, stride = 2, padding = 1, output_padding = 1),\n",
        "                *deconv_block(128, 64, kernel_size = 3, stride = 2, padding = 1, output_padding = 1),\n",
        "                # Taking really long to train\n",
        "                # Very last deconv part, needs to be right size of image\n",
        "                # channels is 1 for mnist, 3 for colored datasets\n",
        "                # NO batch norm here, always\n",
        "                nn.Conv2d(64, channels, 3, stride = 1, padding = 1),\n",
        "                # Can switch to Tanh for LSGAN if needed\n",
        "                nn.Tanh()\n",
        "        )\n",
        "\n",
        "    def forward(self, z):\n",
        "        out = self.first_layer(z)\n",
        "        out = out.view(out.shape[0], 128,  self.init_size,  self.init_size)\n",
        "        img = self.deconvolutional_part(out)\n",
        "        return img\n",
        "\n",
        "\n",
        "class Our_Discriminator(nn.Module):\n",
        "    def __init__(self, batch_norm = True, momentum = 0.8):\n",
        "        super(Our_Discriminator, self).__init__()\n",
        "\n",
        "        def conv_block(in_filters, out_filters, kernel_size, stride, padding = 0, bn=batch_norm):\n",
        "            block = [nn.Conv2d(in_filters, out_filters, kernel_size, stride, padding)]\n",
        "            if bn:\n",
        "                block.append(nn.BatchNorm2d(out_filters, momentum = momentum))\n",
        "            block.append(nn.LeakyReLU(0.2, inplace=True))\n",
        "            return block\n",
        "\n",
        "\n",
        "        # FORMULA FOR SIZE OF CONVOLUTIONAL AND DECONV LAYERS ARE DIFFERENT\n",
        "        # We don't have to keep image size same, but do it for convenience of knowing\n",
        "        # size of last layer\n",
        "        self.model = nn.Sequential(\n",
        "            # change from kernel size from 5 to 4 to make padding an integer\n",
        "            # and keep image size the same\n",
        "            *conv_block(channels, 16, 3, stride = 2, padding = 1, bn = False),\n",
        "            *conv_block(16, 32, 3, stride = 2, padding = 1),\n",
        "            *conv_block(32, 64, 3, stride = 2, padding = 1),\n",
        "            #*conv_block(64, 128, 4, stride = 2, padding = 15),\n",
        "            #*conv_block(128, 256, 4, stride = 2, padding = 15),\n",
        "            #*conv_block(256, 512, 4, stride = 2, padding = 15),\n",
        "        )\n",
        "\n",
        "        ds_size = img_size // 2 ** 3\n",
        "        self.adv_layer = nn.Sequential(\n",
        "            # Keep  Linear part only for LSGAN\n",
        "            nn.Linear(64 * ds_size ** 2, 1),\n",
        "            nn.Sigmoid()\n",
        "        )\n",
        "\n",
        "    def forward(self, img):\n",
        "        out = self.model(img)\n",
        "        out = out.view(out.shape[0], -1)\n",
        "        validity = self.adv_layer(out)\n",
        "\n",
        "        return validity"
      ],
      "execution_count": 0,
      "outputs": []
    },
    {
      "cell_type": "code",
      "metadata": {
        "id": "WuBASnApZupP",
        "colab_type": "code",
        "colab": {}
      },
      "source": [
        "class Our_Generator(nn.Module):\n",
        "    def __init__(self, batch_norm = True, momentum = 0.8):\n",
        "        super(Our_Generator, self).__init__()\n",
        "        \n",
        "        self.init_size = img_size // 16\n",
        "\n",
        "        def linear_block(in_feat, out_feat, bn=batch_norm):\n",
        "            layers = [nn.Linear(in_feat, out_feat)]\n",
        "            if bn:\n",
        "                layers.append(nn.BatchNorm1d(out_feat, momentum = momentum))\n",
        "            layers.append(nn.LeakyReLU(0.2, inplace=True))\n",
        "            return layers\n",
        "\n",
        "        # as specified in paper\n",
        "        def deconv_block(input_channels, output_channels, kernel_size, stride, padding, output_padding, bn=batch_norm):\n",
        "            layers = [nn.ConvTranspose2d(input_channels, output_channels, kernel_size = kernel_size, stride = stride, padding = padding, output_padding = output_padding)]\n",
        "            if bn:\n",
        "                layers.append(nn.BatchNorm2d(output_channels, momentum = momentum))\n",
        "            layers.append(nn.LeakyReLU(0.2, inplace=True))\n",
        "            return layers\n",
        "\n",
        "\n",
        "        self.first_layer = nn.Sequential(*linear_block(latent_dim, 128 *  self.init_size**2, bn = False))\n",
        "\n",
        "        # formula to keep 2D images the same size FOR CONVENIENCE\n",
        "        # https://discuss.pytorch.org/t/how-to-keep-the-shape-of-input-and-output-same-when-dilation-conv/14338/2\n",
        "\n",
        "        # I used this formula to keep the Image Sizes the same for deconvolutional layers\n",
        "        # https://www.wolframalpha.com/input/?i=28+%3D+%2828+-+1%29+*+1+-2Z+%2B++P+%2B+%283-1%29+%2B+1\n",
        "\n",
        "        # FORMULA FOR SIZE OF CONVOLUTIONAL AND DECONV LAYERS ARE DIFFERENT\n",
        "\n",
        "        self.deconvolutional_part = nn.Sequential(\n",
        "                *deconv_block(128, 128, kernel_size = 3, stride = 2, padding = 1, output_padding = 1),\n",
        "                *deconv_block(128, 64, kernel_size = 3, stride = 2, padding = 1, output_padding = 1),\n",
        "                *deconv_block(64, 32, kernel_size = 3, stride = 2, padding = 1, output_padding = 1),\n",
        "                *deconv_block(32, 16, kernel_size = 3, stride = 2, padding = 1, output_padding = 1),\n",
        "                # Taking really long to train\n",
        "                # Very last deconv part, needs to be right size of image\n",
        "                # channels is 1 for mnist, 3 for colored datasets\n",
        "                # NO batch norm here, always\n",
        "                nn.Conv2d(16, channels, 3, stride = 1, padding = 1),\n",
        "                # Can switch to Tanh for LSGAN if needed\n",
        "                nn.Tanh()\n",
        "        )\n",
        "\n",
        "    def forward(self, z):\n",
        "        out = self.first_layer(z)\n",
        "        out = out.view(out.shape[0], 128,  self.init_size,  self.init_size)\n",
        "        img = self.deconvolutional_part(out)\n",
        "        return img"
      ],
      "execution_count": 0,
      "outputs": []
    },
    {
      "cell_type": "code",
      "metadata": {
        "id": "mU1m6zo_L5nY",
        "colab_type": "code",
        "colab": {}
      },
      "source": [
        "#gan_no_batch = Our_Generator(batch_norm = False)\n",
        "#lsgan_no_batch = Our_Generator(batch_norm = False)\n",
        "#gan_batch = Our_Generator(batch_norm = True, momentum = 0.05)\n",
        "lsgan_batch = Our_Generator(batch_norm = True, momentum = 0.1)"
      ],
      "execution_count": 0,
      "outputs": []
    },
    {
      "cell_type": "code",
      "metadata": {
        "id": "YWNCuW4sMpbU",
        "colab_type": "code",
        "outputId": "987a1114-fbc0-4444-ee3a-f8f1ea357b5c",
        "colab": {
          "base_uri": "https://localhost:8080/",
          "height": 260
        }
      },
      "source": [
        "gan_no_batch.load_state_dict(torch.load(BASE_DIR + \"/data/our_gan/no-batch-fashion-mnist/generator.pt\"))\n",
        "gan_no_batch.eval()\n",
        "gan_no_batch.cuda()"
      ],
      "execution_count": 0,
      "outputs": [
        {
          "output_type": "execute_result",
          "data": {
            "text/plain": [
              "Our_Generator(\n",
              "  (first_layer): Sequential(\n",
              "    (0): Linear(in_features=1024, out_features=8192, bias=True)\n",
              "    (1): LeakyReLU(negative_slope=0.2, inplace=True)\n",
              "  )\n",
              "  (deconvolutional_part): Sequential(\n",
              "    (0): ConvTranspose2d(128, 128, kernel_size=(3, 3), stride=(2, 2), padding=(1, 1), output_padding=(1, 1))\n",
              "    (1): LeakyReLU(negative_slope=0.2, inplace=True)\n",
              "    (2): ConvTranspose2d(128, 64, kernel_size=(3, 3), stride=(2, 2), padding=(1, 1), output_padding=(1, 1))\n",
              "    (3): LeakyReLU(negative_slope=0.2, inplace=True)\n",
              "    (4): Conv2d(64, 1, kernel_size=(3, 3), stride=(1, 1), padding=(1, 1))\n",
              "    (5): Tanh()\n",
              "  )\n",
              ")"
            ]
          },
          "metadata": {
            "tags": []
          },
          "execution_count": 13
        }
      ]
    },
    {
      "cell_type": "code",
      "metadata": {
        "id": "K2lO2vDsNaac",
        "colab_type": "code",
        "outputId": "73112e8f-9332-4d20-b327-43c487cacfe3",
        "colab": {
          "base_uri": "https://localhost:8080/",
          "height": 312
        }
      },
      "source": [
        "gan_batch.load_state_dict(torch.load(BASE_DIR + \"/data/our_gan/momentum.05-batch-fashion-mnist/generator.pt\"))\n",
        "gan_batch.eval()\n",
        "gan_batch.cuda()"
      ],
      "execution_count": 0,
      "outputs": [
        {
          "output_type": "execute_result",
          "data": {
            "text/plain": [
              "Our_Generator(\n",
              "  (first_layer): Sequential(\n",
              "    (0): Linear(in_features=1024, out_features=8192, bias=True)\n",
              "    (1): BatchNorm1d(8192, eps=1e-05, momentum=0.05, affine=True, track_running_stats=True)\n",
              "    (2): LeakyReLU(negative_slope=0.2, inplace=True)\n",
              "  )\n",
              "  (deconvolutional_part): Sequential(\n",
              "    (0): ConvTranspose2d(128, 128, kernel_size=(3, 3), stride=(2, 2), padding=(1, 1), output_padding=(1, 1))\n",
              "    (1): BatchNorm2d(128, eps=1e-05, momentum=0.05, affine=True, track_running_stats=True)\n",
              "    (2): LeakyReLU(negative_slope=0.2, inplace=True)\n",
              "    (3): ConvTranspose2d(128, 64, kernel_size=(3, 3), stride=(2, 2), padding=(1, 1), output_padding=(1, 1))\n",
              "    (4): BatchNorm2d(64, eps=1e-05, momentum=0.05, affine=True, track_running_stats=True)\n",
              "    (5): LeakyReLU(negative_slope=0.2, inplace=True)\n",
              "    (6): Conv2d(64, 1, kernel_size=(3, 3), stride=(1, 1), padding=(1, 1))\n",
              "    (7): Tanh()\n",
              "  )\n",
              ")"
            ]
          },
          "metadata": {
            "tags": []
          },
          "execution_count": 14
        }
      ]
    },
    {
      "cell_type": "code",
      "metadata": {
        "id": "eLe-tMbhNsaz",
        "colab_type": "code",
        "outputId": "c4e89abd-b280-4601-fe8e-8266070e22a0",
        "colab": {
          "base_uri": "https://localhost:8080/",
          "height": 260
        }
      },
      "source": [
        "lsgan_no_batch.load_state_dict(torch.load(BASE_DIR + \"/data/lsgan/no-batch-fashion-mnist/generator_momentum.pt\"))\n",
        "lsgan_no_batch.eval()\n",
        "lsgan_no_batch.cuda()"
      ],
      "execution_count": 0,
      "outputs": [
        {
          "output_type": "execute_result",
          "data": {
            "text/plain": [
              "Our_Generator(\n",
              "  (first_layer): Sequential(\n",
              "    (0): Linear(in_features=1024, out_features=8192, bias=True)\n",
              "    (1): LeakyReLU(negative_slope=0.2, inplace=True)\n",
              "  )\n",
              "  (deconvolutional_part): Sequential(\n",
              "    (0): ConvTranspose2d(128, 128, kernel_size=(3, 3), stride=(2, 2), padding=(1, 1), output_padding=(1, 1))\n",
              "    (1): LeakyReLU(negative_slope=0.2, inplace=True)\n",
              "    (2): ConvTranspose2d(128, 64, kernel_size=(3, 3), stride=(2, 2), padding=(1, 1), output_padding=(1, 1))\n",
              "    (3): LeakyReLU(negative_slope=0.2, inplace=True)\n",
              "    (4): Conv2d(64, 1, kernel_size=(3, 3), stride=(1, 1), padding=(1, 1))\n",
              "    (5): Tanh()\n",
              "  )\n",
              ")"
            ]
          },
          "metadata": {
            "tags": []
          },
          "execution_count": 15
        }
      ]
    },
    {
      "cell_type": "code",
      "metadata": {
        "id": "80lOP3NHN9xN",
        "colab_type": "code",
        "outputId": "0152d5ed-b385-421a-e3b6-29861e521a8f",
        "colab": {
          "base_uri": "https://localhost:8080/",
          "height": 399
        }
      },
      "source": [
        "#lsgan_batch.load_state_dict(torch.load(BASE_DIR + \"/data/lsgan/momentum-0.1-batch-fashion-mnist/generator_momentum.pt\"))\n",
        "#lsgan_batch.eval()\n",
        "#lsgan_batch.cuda()"
      ],
      "execution_count": 0,
      "outputs": [
        {
          "output_type": "execute_result",
          "data": {
            "text/plain": [
              "Our_Generator(\n",
              "  (first_layer): Sequential(\n",
              "    (0): Linear(in_features=1024, out_features=512, bias=True)\n",
              "    (1): LeakyReLU(negative_slope=0.2, inplace=True)\n",
              "  )\n",
              "  (deconvolutional_part): Sequential(\n",
              "    (0): ConvTranspose2d(128, 128, kernel_size=(3, 3), stride=(2, 2), padding=(1, 1), output_padding=(1, 1))\n",
              "    (1): BatchNorm2d(128, eps=1e-05, momentum=0.1, affine=True, track_running_stats=True)\n",
              "    (2): LeakyReLU(negative_slope=0.2, inplace=True)\n",
              "    (3): ConvTranspose2d(128, 64, kernel_size=(3, 3), stride=(2, 2), padding=(1, 1), output_padding=(1, 1))\n",
              "    (4): BatchNorm2d(64, eps=1e-05, momentum=0.1, affine=True, track_running_stats=True)\n",
              "    (5): LeakyReLU(negative_slope=0.2, inplace=True)\n",
              "    (6): ConvTranspose2d(64, 32, kernel_size=(3, 3), stride=(2, 2), padding=(1, 1), output_padding=(1, 1))\n",
              "    (7): BatchNorm2d(32, eps=1e-05, momentum=0.1, affine=True, track_running_stats=True)\n",
              "    (8): LeakyReLU(negative_slope=0.2, inplace=True)\n",
              "    (9): ConvTranspose2d(32, 16, kernel_size=(3, 3), stride=(2, 2), padding=(1, 1), output_padding=(1, 1))\n",
              "    (10): BatchNorm2d(16, eps=1e-05, momentum=0.1, affine=True, track_running_stats=True)\n",
              "    (11): LeakyReLU(negative_slope=0.2, inplace=True)\n",
              "    (12): Conv2d(16, 1, kernel_size=(3, 3), stride=(1, 1), padding=(1, 1))\n",
              "    (13): Tanh()\n",
              "  )\n",
              ")"
            ]
          },
          "metadata": {
            "tags": []
          },
          "execution_count": 29
        }
      ]
    },
    {
      "cell_type": "code",
      "metadata": {
        "id": "2oXJRJx0vh2M",
        "colab_type": "code",
        "colab": {}
      },
      "source": [
        "lsgan_batch.load_state_dict(torch.load(BASE_DIR + \"/data/lsgan/batch-fashion-mnist/generator_momentum.pt\"))\n",
        "lsgan_batch.eval()\n",
        "lsgan_batch.cuda()"
      ],
      "execution_count": 0,
      "outputs": []
    },
    {
      "cell_type": "markdown",
      "metadata": {
        "id": "OlKSCXMTSEJD",
        "colab_type": "text"
      },
      "source": [
        "# Inception Model Class"
      ]
    },
    {
      "cell_type": "code",
      "metadata": {
        "id": "bk99gSHUOFVl",
        "colab_type": "code",
        "colab": {}
      },
      "source": [
        "import torch\n",
        "import torch.nn as nn\n",
        "import torch.nn.functional as F\n",
        "from torchvision import models\n",
        "\n",
        "try:\n",
        "    from torchvision.models.utils import load_state_dict_from_url\n",
        "except ImportError:\n",
        "    from torch.utils.model_zoo import load_url as load_state_dict_from_url\n",
        "\n",
        "# Inception weights ported to Pytorch from\n",
        "# http://download.tensorflow.org/models/image/imagenet/inception-2015-12-05.tgz\n",
        "FID_WEIGHTS_URL = 'https://github.com/mseitzer/pytorch-fid/releases/download/fid_weights/pt_inception-2015-12-05-6726825d.pth'\n",
        "\n",
        "\n",
        "class InceptionV3(nn.Module):\n",
        "    \"\"\"Pretrained InceptionV3 network returning feature maps\"\"\"\n",
        "\n",
        "    # Index of default block of inception to return,\n",
        "    # corresponds to output of final average pooling\n",
        "    DEFAULT_BLOCK_INDEX = 3\n",
        "\n",
        "    # Maps feature dimensionality to their output blocks indices\n",
        "    BLOCK_INDEX_BY_DIM = {\n",
        "        64: 0,   # First max pooling features\n",
        "        192: 1,  # Second max pooling featurs\n",
        "        768: 2,  # Pre-aux classifier features\n",
        "        2048: 3  # Final average pooling features\n",
        "    }\n",
        "\n",
        "    def __init__(self,\n",
        "                 output_blocks=[DEFAULT_BLOCK_INDEX],\n",
        "                 resize_input=True,\n",
        "                 normalize_input=True,\n",
        "                 requires_grad=False,\n",
        "                 use_fid_inception=True):\n",
        "        \"\"\"Build pretrained InceptionV3\n",
        "        Parameters\n",
        "        ----------\n",
        "        output_blocks : list of int\n",
        "            Indices of blocks to return features of. Possible values are:\n",
        "                - 0: corresponds to output of first max pooling\n",
        "                - 1: corresponds to output of second max pooling\n",
        "                - 2: corresponds to output which is fed to aux classifier\n",
        "                - 3: corresponds to output of final average pooling\n",
        "        resize_input : bool\n",
        "            If true, bilinearly resizes input to width and height 299 before\n",
        "            feeding input to model. As the network without fully connected\n",
        "            layers is fully convolutional, it should be able to handle inputs\n",
        "            of arbitrary size, so resizing might not be strictly needed\n",
        "        normalize_input : bool\n",
        "            If true, scales the input from range (0, 1) to the range the\n",
        "            pretrained Inception network expects, namely (-1, 1)\n",
        "        requires_grad : bool\n",
        "            If true, parameters of the model require gradients. Possibly useful\n",
        "            for finetuning the network\n",
        "        use_fid_inception : bool\n",
        "            If true, uses the pretrained Inception model used in Tensorflow's\n",
        "            FID implementation. If false, uses the pretrained Inception model\n",
        "            available in torchvision. The FID Inception model has different\n",
        "            weights and a slightly different structure from torchvision's\n",
        "            Inception model. If you want to compute FID scores, you are\n",
        "            strongly advised to set this parameter to true to get comparable\n",
        "            results.\n",
        "        \"\"\"\n",
        "        super(InceptionV3, self).__init__()\n",
        "\n",
        "        self.resize_input = resize_input\n",
        "        self.normalize_input = normalize_input\n",
        "        self.output_blocks = sorted(output_blocks)\n",
        "        self.last_needed_block = max(output_blocks)\n",
        "\n",
        "        assert self.last_needed_block <= 3, \\\n",
        "            'Last possible output block index is 3'\n",
        "\n",
        "        self.blocks = nn.ModuleList()\n",
        "\n",
        "        if use_fid_inception:\n",
        "            inception = fid_inception_v3()\n",
        "        else:\n",
        "            inception = models.inception_v3(pretrained=True)\n",
        "\n",
        "        # Block 0: input to maxpool1\n",
        "        block0 = [\n",
        "            inception.Conv2d_1a_3x3,\n",
        "            inception.Conv2d_2a_3x3,\n",
        "            inception.Conv2d_2b_3x3,\n",
        "            nn.MaxPool2d(kernel_size=3, stride=2)\n",
        "        ]\n",
        "        self.blocks.append(nn.Sequential(*block0))\n",
        "\n",
        "        # Block 1: maxpool1 to maxpool2\n",
        "        if self.last_needed_block >= 1:\n",
        "            block1 = [\n",
        "                inception.Conv2d_3b_1x1,\n",
        "                inception.Conv2d_4a_3x3,\n",
        "                nn.MaxPool2d(kernel_size=3, stride=2)\n",
        "            ]\n",
        "            self.blocks.append(nn.Sequential(*block1))\n",
        "\n",
        "        # Block 2: maxpool2 to aux classifier\n",
        "        if self.last_needed_block >= 2:\n",
        "            block2 = [\n",
        "                inception.Mixed_5b,\n",
        "                inception.Mixed_5c,\n",
        "                inception.Mixed_5d,\n",
        "                inception.Mixed_6a,\n",
        "                inception.Mixed_6b,\n",
        "                inception.Mixed_6c,\n",
        "                inception.Mixed_6d,\n",
        "                inception.Mixed_6e,\n",
        "            ]\n",
        "            self.blocks.append(nn.Sequential(*block2))\n",
        "\n",
        "        # Block 3: aux classifier to final avgpool\n",
        "        if self.last_needed_block >= 3:\n",
        "            block3 = [\n",
        "                inception.Mixed_7a,\n",
        "                inception.Mixed_7b,\n",
        "                inception.Mixed_7c,\n",
        "                nn.AdaptiveAvgPool2d(output_size=(1, 1))\n",
        "            ]\n",
        "            self.blocks.append(nn.Sequential(*block3))\n",
        "\n",
        "        for param in self.parameters():\n",
        "            param.requires_grad = requires_grad\n",
        "\n",
        "    def forward(self, inp):\n",
        "        \"\"\"Get Inception feature maps\n",
        "        Parameters\n",
        "        ----------\n",
        "        inp : torch.autograd.Variable\n",
        "            Input tensor of shape Bx3xHxW. Values are expected to be in\n",
        "            range (0, 1)\n",
        "        Returns\n",
        "        -------\n",
        "        List of torch.autograd.Variable, corresponding to the selected output\n",
        "        block, sorted ascending by index\n",
        "        \"\"\"\n",
        "        outp = []\n",
        "        x = inp\n",
        "\n",
        "        if self.resize_input:\n",
        "            x = F.interpolate(x,\n",
        "                              size=(299, 299),\n",
        "                              mode='bilinear',\n",
        "                              align_corners=False)\n",
        "\n",
        "        if self.normalize_input:\n",
        "            x = 2 * x - 1  # Scale from range (0, 1) to range (-1, 1)\n",
        "\n",
        "        for idx, block in enumerate(self.blocks):\n",
        "            x = block(x)\n",
        "            if idx in self.output_blocks:\n",
        "                outp.append(x)\n",
        "\n",
        "            if idx == self.last_needed_block:\n",
        "                break\n",
        "\n",
        "        return outp\n",
        "\n",
        "\n",
        "def fid_inception_v3():\n",
        "    \"\"\"Build pretrained Inception model for FID computation\n",
        "    The Inception model for FID computation uses a different set of weights\n",
        "    and has a slightly different structure than torchvision's Inception.\n",
        "    This method first constructs torchvision's Inception and then patches the\n",
        "    necessary parts that are different in the FID Inception model.\n",
        "    \"\"\"\n",
        "    inception = models.inception_v3(num_classes=1008,\n",
        "                                    aux_logits=False,\n",
        "                                    pretrained=False)\n",
        "    inception.Mixed_5b = FIDInceptionA(192, pool_features=32)\n",
        "    inception.Mixed_5c = FIDInceptionA(256, pool_features=64)\n",
        "    inception.Mixed_5d = FIDInceptionA(288, pool_features=64)\n",
        "    inception.Mixed_6b = FIDInceptionC(768, channels_7x7=128)\n",
        "    inception.Mixed_6c = FIDInceptionC(768, channels_7x7=160)\n",
        "    inception.Mixed_6d = FIDInceptionC(768, channels_7x7=160)\n",
        "    inception.Mixed_6e = FIDInceptionC(768, channels_7x7=192)\n",
        "    inception.Mixed_7b = FIDInceptionE_1(1280)\n",
        "    inception.Mixed_7c = FIDInceptionE_2(2048)\n",
        "\n",
        "    state_dict = load_state_dict_from_url(FID_WEIGHTS_URL, progress=True)\n",
        "    inception.load_state_dict(state_dict)\n",
        "    return inception\n",
        "\n",
        "\n",
        "class FIDInceptionA(models.inception.InceptionA):\n",
        "    \"\"\"InceptionA block patched for FID computation\"\"\"\n",
        "    def __init__(self, in_channels, pool_features):\n",
        "        super(FIDInceptionA, self).__init__(in_channels, pool_features)\n",
        "\n",
        "    def forward(self, x):\n",
        "        branch1x1 = self.branch1x1(x)\n",
        "\n",
        "        branch5x5 = self.branch5x5_1(x)\n",
        "        branch5x5 = self.branch5x5_2(branch5x5)\n",
        "\n",
        "        branch3x3dbl = self.branch3x3dbl_1(x)\n",
        "        branch3x3dbl = self.branch3x3dbl_2(branch3x3dbl)\n",
        "        branch3x3dbl = self.branch3x3dbl_3(branch3x3dbl)\n",
        "\n",
        "        # Patch: Tensorflow's average pool does not use the padded zero's in\n",
        "        # its average calculation\n",
        "        branch_pool = F.avg_pool2d(x, kernel_size=3, stride=1, padding=1,\n",
        "                                   count_include_pad=False)\n",
        "        branch_pool = self.branch_pool(branch_pool)\n",
        "\n",
        "        outputs = [branch1x1, branch5x5, branch3x3dbl, branch_pool]\n",
        "        return torch.cat(outputs, 1)\n",
        "\n",
        "\n",
        "class FIDInceptionC(models.inception.InceptionC):\n",
        "    \"\"\"InceptionC block patched for FID computation\"\"\"\n",
        "    def __init__(self, in_channels, channels_7x7):\n",
        "        super(FIDInceptionC, self).__init__(in_channels, channels_7x7)\n",
        "\n",
        "    def forward(self, x):\n",
        "        branch1x1 = self.branch1x1(x)\n",
        "\n",
        "        branch7x7 = self.branch7x7_1(x)\n",
        "        branch7x7 = self.branch7x7_2(branch7x7)\n",
        "        branch7x7 = self.branch7x7_3(branch7x7)\n",
        "\n",
        "        branch7x7dbl = self.branch7x7dbl_1(x)\n",
        "        branch7x7dbl = self.branch7x7dbl_2(branch7x7dbl)\n",
        "        branch7x7dbl = self.branch7x7dbl_3(branch7x7dbl)\n",
        "        branch7x7dbl = self.branch7x7dbl_4(branch7x7dbl)\n",
        "        branch7x7dbl = self.branch7x7dbl_5(branch7x7dbl)\n",
        "\n",
        "        # Patch: Tensorflow's average pool does not use the padded zero's in\n",
        "        # its average calculation\n",
        "        branch_pool = F.avg_pool2d(x, kernel_size=3, stride=1, padding=1,\n",
        "                                   count_include_pad=False)\n",
        "        branch_pool = self.branch_pool(branch_pool)\n",
        "\n",
        "        outputs = [branch1x1, branch7x7, branch7x7dbl, branch_pool]\n",
        "        return torch.cat(outputs, 1)\n",
        "\n",
        "\n",
        "class FIDInceptionE_1(models.inception.InceptionE):\n",
        "    \"\"\"First InceptionE block patched for FID computation\"\"\"\n",
        "    def __init__(self, in_channels):\n",
        "        super(FIDInceptionE_1, self).__init__(in_channels)\n",
        "\n",
        "    def forward(self, x):\n",
        "        branch1x1 = self.branch1x1(x)\n",
        "\n",
        "        branch3x3 = self.branch3x3_1(x)\n",
        "        branch3x3 = [\n",
        "            self.branch3x3_2a(branch3x3),\n",
        "            self.branch3x3_2b(branch3x3),\n",
        "        ]\n",
        "        branch3x3 = torch.cat(branch3x3, 1)\n",
        "\n",
        "        branch3x3dbl = self.branch3x3dbl_1(x)\n",
        "        branch3x3dbl = self.branch3x3dbl_2(branch3x3dbl)\n",
        "        branch3x3dbl = [\n",
        "            self.branch3x3dbl_3a(branch3x3dbl),\n",
        "            self.branch3x3dbl_3b(branch3x3dbl),\n",
        "        ]\n",
        "        branch3x3dbl = torch.cat(branch3x3dbl, 1)\n",
        "\n",
        "        # Patch: Tensorflow's average pool does not use the padded zero's in\n",
        "        # its average calculation\n",
        "        branch_pool = F.avg_pool2d(x, kernel_size=3, stride=1, padding=1,\n",
        "                                   count_include_pad=False)\n",
        "        branch_pool = self.branch_pool(branch_pool)\n",
        "\n",
        "        outputs = [branch1x1, branch3x3, branch3x3dbl, branch_pool]\n",
        "        return torch.cat(outputs, 1)\n",
        "\n",
        "\n",
        "class FIDInceptionE_2(models.inception.InceptionE):\n",
        "    \"\"\"Second InceptionE block patched for FID computation\"\"\"\n",
        "    def __init__(self, in_channels):\n",
        "        super(FIDInceptionE_2, self).__init__(in_channels)\n",
        "\n",
        "    def forward(self, x):\n",
        "        branch1x1 = self.branch1x1(x)\n",
        "\n",
        "        branch3x3 = self.branch3x3_1(x)\n",
        "        branch3x3 = [\n",
        "            self.branch3x3_2a(branch3x3),\n",
        "            self.branch3x3_2b(branch3x3),\n",
        "        ]\n",
        "        branch3x3 = torch.cat(branch3x3, 1)\n",
        "\n",
        "        branch3x3dbl = self.branch3x3dbl_1(x)\n",
        "        branch3x3dbl = self.branch3x3dbl_2(branch3x3dbl)\n",
        "        branch3x3dbl = [\n",
        "            self.branch3x3dbl_3a(branch3x3dbl),\n",
        "            self.branch3x3dbl_3b(branch3x3dbl),\n",
        "        ]\n",
        "        branch3x3dbl = torch.cat(branch3x3dbl, 1)\n",
        "\n",
        "        # Patch: The FID Inception model uses max pooling instead of average\n",
        "        # pooling. This is likely an error in this specific Inception\n",
        "        # implementation, as other Inception models use average pooling here\n",
        "        # (which matches the description in the paper).\n",
        "        branch_pool = F.max_pool2d(x, kernel_size=3, stride=1, padding=1)\n",
        "        branch_pool = self.branch_pool(branch_pool)\n",
        "\n",
        "        outputs = [branch1x1, branch3x3, branch3x3dbl, branch_pool]\n",
        "        return torch.cat(outputs, 1)"
      ],
      "execution_count": 0,
      "outputs": []
    },
    {
      "cell_type": "markdown",
      "metadata": {
        "id": "wlMKUGssSPb8",
        "colab_type": "text"
      },
      "source": [
        "# Initialize Inception Model\n",
        "\n",
        "The code for it is inside the code above"
      ]
    },
    {
      "cell_type": "markdown",
      "metadata": {
        "id": "tcNZAOwnTi8f",
        "colab_type": "text"
      },
      "source": [
        "# Generate images for the different generators"
      ]
    },
    {
      "cell_type": "code",
      "metadata": {
        "id": "mp9yEsR7Z75A",
        "colab_type": "code",
        "colab": {}
      },
      "source": [
        "n_batches = count_test // batch_size"
      ],
      "execution_count": 0,
      "outputs": []
    },
    {
      "cell_type": "code",
      "metadata": {
        "id": "94pCyTIda-hc",
        "colab_type": "code",
        "outputId": "f90e6208-8f1e-4e99-e1dc-3f3e408c16b2",
        "colab": {
          "base_uri": "https://localhost:8080/",
          "height": 34
        }
      },
      "source": [
        "n_batches"
      ],
      "execution_count": 0,
      "outputs": [
        {
          "output_type": "execute_result",
          "data": {
            "text/plain": [
              "200"
            ]
          },
          "metadata": {
            "tags": []
          },
          "execution_count": 32
        }
      ]
    },
    {
      "cell_type": "code",
      "metadata": {
        "id": "reqRihv9YYty",
        "colab_type": "code",
        "colab": {}
      },
      "source": [
        "cuda = True if torch.cuda.is_available() else False\n",
        "Tensor = torch.cuda.FloatTensor if cuda else torch.FloatTensor"
      ],
      "execution_count": 0,
      "outputs": []
    },
    {
      "cell_type": "code",
      "metadata": {
        "id": "nr5BOMgiTmO4",
        "colab_type": "code",
        "colab": {}
      },
      "source": [
        "z = Variable(Tensor(np.random.normal(0, 1, (batch_size, latent_dim))))"
      ],
      "execution_count": 0,
      "outputs": []
    },
    {
      "cell_type": "code",
      "metadata": {
        "id": "0RBVwptye8__",
        "colab_type": "code",
        "colab": {}
      },
      "source": [
        "def gen_test_images(generator):\n",
        "    gn = [generator(Variable(Tensor(np.random.normal(0, 1, (batch_size, latent_dim))))).cpu().detach().numpy() for i in range(n_batches)]\n",
        "    return np.concatenate(gn)"
      ],
      "execution_count": 0,
      "outputs": []
    },
    {
      "cell_type": "code",
      "metadata": {
        "id": "BD1bcAMIYz7L",
        "colab_type": "code",
        "colab": {}
      },
      "source": [
        "#gen_gan_no_batch_imgs = gen_test_images(gan_no_batch)\n",
        "#gen_lsgan_no_batch_imgs = gen_test_images(lsgan_no_batch)\n",
        "\n",
        "#gen_gan_batch_imgs = gen_test_images(gan_batch)\n",
        "gen_lsgan_batch_imgs = gen_test_images(lsgan_batch)"
      ],
      "execution_count": 0,
      "outputs": []
    },
    {
      "cell_type": "code",
      "metadata": {
        "id": "kmoAusTigPRO",
        "colab_type": "code",
        "colab": {}
      },
      "source": [
        "real_imgs = []\n",
        "for i, (imgs, _) in enumerate(fashion_dataloader_test):\n",
        "    real_imgs.append(imgs.cpu().detach().numpy())\n",
        "real_imgs = np.concatenate(real_imgs)"
      ],
      "execution_count": 0,
      "outputs": []
    },
    {
      "cell_type": "code",
      "metadata": {
        "id": "q_fjTFTBfd0w",
        "colab_type": "code",
        "outputId": "72b00d5e-e24b-41d9-b027-27299a1f3c5f",
        "colab": {
          "base_uri": "https://localhost:8080/",
          "height": 34
        }
      },
      "source": [
        "real_imgs.shape"
      ],
      "execution_count": 0,
      "outputs": [
        {
          "output_type": "execute_result",
          "data": {
            "text/plain": [
              "(10000, 1, 32, 32)"
            ]
          },
          "metadata": {
            "tags": []
          },
          "execution_count": 37
        }
      ]
    },
    {
      "cell_type": "markdown",
      "metadata": {
        "id": "xVczW0v_pQSs",
        "colab_type": "text"
      },
      "source": [
        "Inception requires 3 channels. So just replicate 3 times."
      ]
    },
    {
      "cell_type": "code",
      "metadata": {
        "id": "5hUw-1_fpO3t",
        "colab_type": "code",
        "colab": {}
      },
      "source": [
        "def rep_channel(data):\n",
        "    return np.concatenate((data, data, data), axis = 1)"
      ],
      "execution_count": 0,
      "outputs": []
    },
    {
      "cell_type": "code",
      "metadata": {
        "id": "NPyJehzmpamk",
        "colab_type": "code",
        "colab": {}
      },
      "source": [
        "#gen_gan_no_batch_imgs = rep_channel(gen_gan_no_batch_imgs)\n",
        "#gen_lsgan_no_batch_imgs = rep_channel(gen_lsgan_no_batch_imgs)\n",
        "#gen_gan_batch_imgs = rep_channel(gen_gan_batch_imgs)\n",
        "gen_lsgan_batch_imgs = rep_channel(gen_lsgan_batch_imgs)\n",
        "\n",
        "real_imgs = rep_channel(real_imgs)"
      ],
      "execution_count": 0,
      "outputs": []
    },
    {
      "cell_type": "markdown",
      "metadata": {
        "id": "24jE1DbJS18q",
        "colab_type": "text"
      },
      "source": [
        "# Calculate scores for the different generators"
      ]
    },
    {
      "cell_type": "code",
      "metadata": {
        "id": "3RMV0cIlrsGk",
        "colab_type": "code",
        "colab": {}
      },
      "source": [
        "def tqdm(x): return x"
      ],
      "execution_count": 0,
      "outputs": []
    },
    {
      "cell_type": "code",
      "metadata": {
        "id": "-saQlpDCrPbt",
        "colab_type": "code",
        "outputId": "5f53dbba-7d59-4614-d4c6-124167900398",
        "colab": {
          "base_uri": "https://localhost:8080/",
          "height": 86
        }
      },
      "source": [
        "fid_value_gan_no_batch = calculate_fid_given_paths([gen_gan_no_batch_imgs, real_imgs],\n",
        "                                          batch_size,\n",
        "                                          cuda = cuda,\n",
        "                                          dims = dims)\n",
        "\n",
        "print(\"GAN NO BATCH\")\n",
        "print(fid_value_gan_no_batch)"
      ],
      "execution_count": 0,
      "outputs": [
        {
          "output_type": "stream",
          "text": [
            "Downloading: \"https://github.com/mseitzer/pytorch-fid/releases/download/fid_weights/pt_inception-2015-12-05-6726825d.pth\" to /root/.cache/torch/checkpoints/pt_inception-2015-12-05-6726825d.pth\n",
            "100%|██████████| 91.2M/91.2M [00:02<00:00, 38.0MB/s]\n"
          ],
          "name": "stderr"
        },
        {
          "output_type": "stream",
          "text": [
            "GAN NO BATCH\n",
            "66.55188455053613\n"
          ],
          "name": "stdout"
        }
      ]
    },
    {
      "cell_type": "code",
      "metadata": {
        "id": "Q1XP1Lf1Thja",
        "colab_type": "code",
        "outputId": "26b3cc3e-eff9-4a7c-924f-74a450c71a25",
        "colab": {
          "base_uri": "https://localhost:8080/",
          "height": 52
        }
      },
      "source": [
        "fid_value_gan_batch = calculate_fid_given_paths([gen_gan_batch_imgs, real_imgs],\n",
        "                                          batch_size,\n",
        "                                          cuda = cuda,\n",
        "                                          dims = dims)\n",
        "\n",
        "print(\"GAN BATCH\")\n",
        "print(fid_value_gan_batch)"
      ],
      "execution_count": 0,
      "outputs": [
        {
          "output_type": "stream",
          "text": [
            "GAN BATCH\n",
            "348.0485219296422\n"
          ],
          "name": "stdout"
        }
      ]
    },
    {
      "cell_type": "code",
      "metadata": {
        "id": "s4yJG1-5qKpC",
        "colab_type": "code",
        "outputId": "f334b976-7b58-4db3-e9d7-f6967eb0e348",
        "colab": {
          "base_uri": "https://localhost:8080/",
          "height": 52
        }
      },
      "source": [
        "fid_value_lsgan_no_batch = calculate_fid_given_paths([gen_lsgan_no_batch_imgs, real_imgs],\n",
        "                                          batch_size,\n",
        "                                          cuda = cuda,\n",
        "                                          dims = dims)\n",
        "\n",
        "print(\"LSGAN NO BATCH\")\n",
        "print(fid_value_lsgan_no_batch)"
      ],
      "execution_count": 0,
      "outputs": [
        {
          "output_type": "stream",
          "text": [
            "LSGAN NO BATCH\n",
            "48.66737531511262\n"
          ],
          "name": "stdout"
        }
      ]
    },
    {
      "cell_type": "code",
      "metadata": {
        "colab_type": "code",
        "id": "ev9RlPdj5gHX",
        "outputId": "feedaf3c-0a68-4682-b7fe-b38bdc339989",
        "colab": {
          "base_uri": "https://localhost:8080/",
          "height": 86
        }
      },
      "source": [
        "fid_value_lsgan_batch = calculate_fid_given_paths([gen_lsgan_batch_imgs, real_imgs],\n",
        "                                          batch_size,\n",
        "                                          cuda = cuda,\n",
        "                                          dims = dims)\n",
        "\n",
        "print(\"LSGAN BATCH\")\n",
        "print(fid_value_lsgan_batch)"
      ],
      "execution_count": 0,
      "outputs": [
        {
          "output_type": "stream",
          "text": [
            "Downloading: \"https://github.com/mseitzer/pytorch-fid/releases/download/fid_weights/pt_inception-2015-12-05-6726825d.pth\" to /root/.cache/torch/checkpoints/pt_inception-2015-12-05-6726825d.pth\n",
            "100%|██████████| 91.2M/91.2M [00:03<00:00, 29.7MB/s]\n"
          ],
          "name": "stderr"
        },
        {
          "output_type": "stream",
          "text": [
            "LSGAN BATCH\n",
            "94.17686727454196\n"
          ],
          "name": "stdout"
        }
      ]
    },
    {
      "cell_type": "code",
      "metadata": {
        "id": "viE6XiFMrFFq",
        "colab_type": "code",
        "colab": {}
      },
      "source": [
        ""
      ],
      "execution_count": 0,
      "outputs": []
    }
  ]
}